{
 "cells": [
  {
   "cell_type": "code",
   "execution_count": 71,
   "metadata": {},
   "outputs": [],
   "source": [
    "import pandas as Pd\n",
    "df = Pd.read_excel(\"Read_DID_Config_Sheet.xlsx\",sheet_name=\"Sheet1\")# Reaing parameter sheet/configuration excel sheet\n",
    "\n",
    "f=open(\"Read_DID_22_template.py\",'r') #opening template test case in read mode\n",
    "x=f.read()                            #storing testcase code in object x\n",
    "#print(\"x=\",x)\n",
    "f.close()                             #closing file\n",
    "\n",
    "for i in range(len(df.axes[0])):     #iterates row number of times in config excel sheet\n",
    "    #print(i)\n",
    "    y='\"'+df.SW_Val[i]+'\"'           \n",
    "    z='\"'+df.Data_Identifier[i]+'\"'\n",
    "    #print(y,'\\n','\\n')\n",
    "    new_file=x.replace('SW_label',y) #replacing SW_label in test case with y\n",
    "    #print(new_file,'\\n','\\n')\n",
    "    new_file=x.replace(\"Data_Identifier\",z) #replacing Data_Identifier in test case with z\n",
    "    #print(new_file,'\\n','\\n')\n",
    "    #######################################\n",
    "    \"\"\"\n",
    "    create file and save file\n",
    "    \"\"\"\n",
    "    file_name=\"RDBI_\"+str(df.Data_Identifier[i]).replace(' ','_')+\"_testcase.py\"\n",
    "    #print(file_name)\n",
    "    f=open(file_name,'w')         #opening file in write mode or creating a new file\n",
    "    f.write(x)                    #writing the changed testcase to newfile\n",
    "    f.close()                     #closing the file\n",
    "\n",
    "    \n",
    "    "
   ]
  },
  {
   "cell_type": "code",
   "execution_count": null,
   "metadata": {},
   "outputs": [],
   "source": []
  }
 ],
 "metadata": {
  "kernelspec": {
   "display_name": "Python 3",
   "language": "python",
   "name": "python3"
  },
  "language_info": {
   "codemirror_mode": {
    "name": "ipython",
    "version": 3
   },
   "file_extension": ".py",
   "mimetype": "text/x-python",
   "name": "python",
   "nbconvert_exporter": "python",
   "pygments_lexer": "ipython3",
   "version": "3.6.5"
  }
 },
 "nbformat": 4,
 "nbformat_minor": 2
}
